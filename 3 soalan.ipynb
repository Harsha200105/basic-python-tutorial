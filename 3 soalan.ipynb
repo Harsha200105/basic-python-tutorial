{
 "cells": [
  {
   "cell_type": "markdown",
   "metadata": {},
   "source": [
    "# Mohamad Amzar bin Mohd Rupiah 2016351987"
   ]
  },
  {
   "cell_type": "markdown",
   "metadata": {},
   "source": [
    "# QUESTION 1"
   ]
  },
  {
   "cell_type": "code",
   "execution_count": 13,
   "metadata": {},
   "outputs": [
    {
     "name": "stdout",
     "output_type": "stream",
     "text": [
      "[5, -3, 9]\n",
      "[9, 9, 3]\n",
      "[10, -7, 3]\n"
     ]
    }
   ],
   "source": [
    "X = [[1,-4,3],\n",
    "    [3 ,4,4],\n",
    "    [7 ,3,2]]\n",
    "  \n",
    "Y = [[4,1,6],\n",
    "    [6,5,-1],\n",
    "    [3,-10,1]]\n",
    " \n",
    "result = [[X[i][j] + Y[i][j]  for j in range(len(X[0]))] for i in range(len(X))]\n",
    "  \n",
    "for r in result:\n",
    "    print(r)\n"
   ]
  },
  {
   "cell_type": "markdown",
   "metadata": {},
   "source": [
    "# QUESTION 2"
   ]
  },
  {
   "cell_type": "code",
   "execution_count": 5,
   "metadata": {},
   "outputs": [
    {
     "name": "stdout",
     "output_type": "stream",
     "text": [
      "[1, 3]\n",
      "[-4, 4]\n"
     ]
    }
   ],
   "source": [
    "X = [[1,-4,],\n",
    "    [3 ,4,]]\n",
    "\n",
    "temp=[]\n",
    "temp2=[]\n",
    "\n",
    "for i in range(len(X[0])):\n",
    "    temp2=[]\n",
    "    for r in X:\n",
    "        temp2.append(r[i])\n",
    "    temp.append(temp2)\n",
    "\n",
    "for k in temp:\n",
    "    print(k)"
   ]
  },
  {
   "cell_type": "markdown",
   "metadata": {},
   "source": [
    "# QUESTION 3"
   ]
  },
  {
   "cell_type": "code",
   "execution_count": 7,
   "metadata": {},
   "outputs": [
    {
     "name": "stdout",
     "output_type": "stream",
     "text": [
      "Enter string : dad\n",
      "\n",
      "\n",
      "Yes, 'dad' same with 'dad' !\n"
     ]
    }
   ],
   "source": [
    "\n",
    "\n",
    "str1 = input(\"Enter string : \")\n",
    "str2 = str1[::-1]\n",
    "print(\"\\n\")\n",
    "if str1 == str2 :\n",
    "    print(\"Yes, '{}' same with '{}' !\".format(str1, str2))\n",
    "else :\n",
    "    print(\"No, '{}' not same with '{}' !\".format(str1, str2))"
   ]
  },
  {
   "cell_type": "code",
   "execution_count": null,
   "metadata": {
    "collapsed": true
   },
   "outputs": [],
   "source": []
  }
 ],
 "metadata": {
  "kernelspec": {
   "display_name": "Python 3",
   "language": "python",
   "name": "python3"
  },
  "language_info": {
   "codemirror_mode": {
    "name": "ipython",
    "version": 3
   },
   "file_extension": ".py",
   "mimetype": "text/x-python",
   "name": "python",
   "nbconvert_exporter": "python",
   "pygments_lexer": "ipython3",
   "version": "3.6.3"
  }
 },
 "nbformat": 4,
 "nbformat_minor": 2
}
