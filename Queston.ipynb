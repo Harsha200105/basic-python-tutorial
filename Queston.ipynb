{
 "cells": [
  {
   "cell_type": "markdown",
   "metadata": {},
   "source": [
    "# Mohamad Amzar bin Mohd Rupiah 2016351987"
   ]
  },
  {
   "cell_type": "markdown",
   "metadata": {},
   "source": [
    "\n",
    "1) Write a code using user input a guess number from a random 1 to 100 and check it is low or high than expected number"
   ]
  },
  {
   "cell_type": "code",
   "execution_count": 81,
   "metadata": {},
   "outputs": [
    {
     "name": "stdout",
     "output_type": "stream",
     "text": [
      "Enter a Number : 23\n",
      "23 : Too small\n",
      "Enter a Number : 3\n",
      "3 : Too small\n",
      "Enter a Number : 50\n",
      "50 : Too high\n",
      "Enter a Number : 40\n",
      "40 : Too small\n",
      "Enter a Number : 45\n",
      "45 : Too small\n",
      "Enter a Number : 48\n",
      "48 : Too high\n",
      "Enter a Number : 47\n",
      "47 : Yes, correct\n"
     ]
    }
   ],
   "source": [
    "import  random as rnd\n",
    "\n",
    "ran = rnd.randint(1,100)\n",
    "num = 0\n",
    "c = 0\n",
    "\n",
    "def checknum (ran, num):\n",
    "    if num == -1 :\n",
    "        print(\"I'm DONEEEEE!!\")\n",
    "    elif num < ran:\n",
    "        print(\"%d : Too small\"%(num))\n",
    "    \n",
    "    elif num > ran :\n",
    "        print(\"%d : Too high\"%(num))\n",
    "     \n",
    "    elif num == ran :\n",
    "        print(\"%d : Yes, correct\"%(num))\n",
    "     \n",
    "    else : print(\"Wrong Input\")\n",
    "        \n",
    "while num != ran and num != -1:\n",
    "    num = int(input(\"Enter a Number : \"))\n",
    "    checknum(ran,num)\n",
    "    c+=1\n",
    "    "
   ]
  },
  {
   "cell_type": "markdown",
   "metadata": {},
   "source": [
    "2) Write a function to reverse and print only even index in a string"
   ]
  },
  {
   "cell_type": "code",
   "execution_count": 82,
   "metadata": {},
   "outputs": [
    {
     "name": "stdout",
     "output_type": "stream",
     "text": [
      "Reverse or Even? even\n",
      "HloWrd\n"
     ]
    }
   ],
   "source": [
    "text = \"Hello World\"\n",
    "\n",
    "def reverse(text):\n",
    "    rev = text[::-1]\n",
    "    print(rev)\n",
    "\n",
    "def even(text):\n",
    "    ev = text[::2]\n",
    "    print(ev)\n",
    "\n",
    "choice = input(\"Reverse or Even? \")\n",
    "\n",
    "if choice == \"reverse\":\n",
    "    reverse(text)\n",
    "elif choice == \"even\":\n",
    "    even(text)\n",
    "else: \n",
    "    print(\"Wrong Input\")\n",
    "\n",
    "    "
   ]
  },
  {
   "cell_type": "markdown",
   "metadata": {},
   "source": [
    "3) Write a code to combine a list and sort it"
   ]
  },
  {
   "cell_type": "code",
   "execution_count": 83,
   "metadata": {},
   "outputs": [
    {
     "name": "stdout",
     "output_type": "stream",
     "text": [
      "Enter no of column : 3\n",
      "\n",
      "===========\n",
      "INTEGER\n",
      "===========\n",
      "Enter integer: 34\n",
      "Enter integer: 45\n",
      "Enter integer: 32\n",
      "\n",
      "===========\n",
      "FLOAT\n",
      "===========\n",
      "Enter float: 8.3\n",
      "Enter float: 8.5\n",
      "Enter float: 50.4\n",
      "\n",
      "RESULT:\n",
      "[8.3, 8.5, 32, 34, 45, 50.4]\n"
     ]
    }
   ],
   "source": [
    "l1,l2 = [],[]\n",
    "\n",
    "col = int(input(\"Enter no of column : \"))\n",
    "\n",
    "print(\"\\n===========\\nINTEGER\\n===========\")\n",
    "for i in range(1,col+1):\n",
    "    num1 = int(input(\"Enter integer: \"))\n",
    "    l1.append(num1)\n",
    "print(\"\\n===========\\nFLOAT\\n===========\")\n",
    "for j in range(1,col+1):\n",
    "    num2 = float(input(\"Enter float: \"))\n",
    "    l2.append(num2)\n",
    "\n",
    "newlist = l1 + l2\n",
    "newlist.sort()\n",
    "print(\"\\nRESULT:\");print(newlist)"
   ]
  },
  {
   "cell_type": "markdown",
   "metadata": {},
   "source": [
    "4) Write a code to check which email provider and the age of the user by checking their IC"
   ]
  },
  {
   "cell_type": "code",
   "execution_count": 84,
   "metadata": {},
   "outputs": [
    {
     "name": "stdout",
     "output_type": "stream",
     "text": [
      "Enter your emailay@yahoo.com\n",
      "Enter your IC without dash870230071221\n",
      "\n",
      "\n",
      "Your email provider is yahoo.com\n",
      "Your age is 31\n"
     ]
    }
   ],
   "source": [
    "import datetime\n",
    "email = input(\"Enter your email\")\n",
    "ic = input(\"Enter your IC without dash\")\n",
    "now = datetime.datetime.now()\n",
    "\n",
    "def checkemail (email):        \n",
    "    prov = email.split(\"@\")[1]\n",
    "    provr= prov.split(\".\")[0]\n",
    "    \n",
    "    if provr == \"gmail\":\n",
    "        print(\"Your email provider is {}\".format(prov))\n",
    "    elif provr == \"yahoo\":\n",
    "        print(\"Your email provider is {}\".format(prov))\n",
    "    elif provr == \"am\":\n",
    "        print(\"Your email provider is {}\".format(prov))\n",
    "    else :\n",
    "        print(\"UNKNOWN!\")\n",
    "\n",
    "def yearofbirth (ic):\n",
    "    year = ic[0:2]\n",
    "    realyear = \"19\"+year\n",
    "    yeah = int(realyear)\n",
    "    yob = int((now.year)-yeah)\n",
    "    print(\"Your age is {}\".format(yob))\n",
    "\n",
    "print(\"\\n\")\n",
    "checkemail(email)\n",
    "yearofbirth(ic)"
   ]
  },
  {
   "cell_type": "markdown",
   "metadata": {},
   "source": [
    "5) Ask user to enter 10 number and find the maximum and how many times appears in the list"
   ]
  },
  {
   "cell_type": "code",
   "execution_count": 85,
   "metadata": {},
   "outputs": [
    {
     "name": "stdout",
     "output_type": "stream",
     "text": [
      "Enter a number : 26\n",
      "Enter a number : 23\n",
      "Enter a number : 4\n",
      "Enter a number : 26\n",
      "Enter a number : 26\n",
      "Enter a number : 12\n",
      "Enter a number : 33\n",
      "Enter a number : 26\n",
      "Enter a number : 21\n",
      "Enter a number : 12\n",
      "[26, 23, 4, 26, 26, 12, 33, 26, 21, 12]\n",
      "\n",
      "The maximum number is 33\n",
      "1 times the maximum number appears in the list\n",
      "\n"
     ]
    }
   ],
   "source": [
    "times = 10\n",
    "numlist2=[]\n",
    "\n",
    "for i in range(0,times):\n",
    "    a = int(input(\"Enter a number : \"))\n",
    "    numlist2.append(a)\n",
    "\n",
    "print(numlist2)\n",
    "maxl = max(numlist2)\n",
    "print(\"\\nThe maximum number is {}\".format(maxl))\n",
    "\n",
    "count=0\n",
    "for i in numlist2:\n",
    "    if i == maxl:\n",
    "        count+=1        \n",
    "print(\"{} times the maximum number appears in the list\\n\".format(count))\n",
    "\n"
   ]
  }
 ],
 "metadata": {
  "kernelspec": {
   "display_name": "Python 3",
   "language": "python",
   "name": "python3"
  },
  "language_info": {
   "codemirror_mode": {
    "name": "ipython",
    "version": 3
   },
   "file_extension": ".py",
   "mimetype": "text/x-python",
   "name": "python",
   "nbconvert_exporter": "python",
   "pygments_lexer": "ipython3",
   "version": "3.6.3"
  }
 },
 "nbformat": 4,
 "nbformat_minor": 2
}
